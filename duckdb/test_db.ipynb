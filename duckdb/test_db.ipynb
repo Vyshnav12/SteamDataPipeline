{
 "cells": [
  {
   "cell_type": "code",
   "execution_count": 2,
   "metadata": {},
   "outputs": [],
   "source": [
    "import duckdb\n",
    "\n",
    "con = duckdb.connect('steam_games.duckdb')\n",
    "\n",
    "con.execute(\"SELECT * FROM games\").fetchdf().head()\n",
    "\n",
    "con.close()\n"
   ]
  },
  {
   "cell_type": "code",
   "execution_count": 26,
   "metadata": {},
   "outputs": [
    {
     "name": "stdout",
     "output_type": "stream",
     "text": [
      "                                 name  release_date  required_age  price  \\\n",
      "0                    Galactic Bowling  Oct 21, 2008             0  19.99   \n",
      "1                        Train Bandit  Oct 12, 2017             0   0.99   \n",
      "2                        Jolt Project  Nov 17, 2021             0   4.99   \n",
      "3                            Henosis™  Jul 23, 2020             0   5.99   \n",
      "4               Two Weeks in Painland   Feb 3, 2020             0   0.00   \n",
      "5                      Wartune Reborn  Feb 26, 2021             0   0.00   \n",
      "6                           TD Worlds   Jan 9, 2022             0  10.99   \n",
      "7  Legend of Rome - The Wrath of Mars   May 5, 2022             0   9.99   \n",
      "8               MazM: Jekyll and Hyde   Apr 2, 2020             0  14.99   \n",
      "9           Deadlings: Rotten Edition  Nov 11, 2014             0   3.99   \n",
      "\n",
      "   dlc_count  support_email  windows    mac  linux  metacritic_score  ...  \\\n",
      "0          0          False     True  False  False                 0  ...   \n",
      "1          0           True     True   True  False                 0  ...   \n",
      "2          0           True     True  False  False                 0  ...   \n",
      "3          0           True     True   True   True                 0  ...   \n",
      "4          0           True     True   True  False                 0  ...   \n",
      "5          0           True     True  False  False                 0  ...   \n",
      "6          1           True     True  False  False                 0  ...   \n",
      "7          0           True     True  False  False                 0  ...   \n",
      "8          0           True     True  False  False                 0  ...   \n",
      "9          0           True     True   True   True                 0  ...   \n",
      "\n",
      "   user_score  score_rank positive negative estimated_owners  \\\n",
      "0         0.0                    6       11        0 - 20000   \n",
      "1         0.0                   53        5        0 - 20000   \n",
      "2         0.0                    0        0        0 - 20000   \n",
      "3         0.0                    3        0        0 - 20000   \n",
      "4         0.0                   50        8        0 - 20000   \n",
      "5         0.0                   87       49   50000 - 100000   \n",
      "6         0.0                   21        7        0 - 20000   \n",
      "7         0.0                    0        0        0 - 20000   \n",
      "8         0.0                   76        6        0 - 20000   \n",
      "9         0.0                  225       45   50000 - 100000   \n",
      "\n",
      "  average_playtime_forever average_playtime_2weeks median_playtime_forever  \\\n",
      "0                        0                       0                       0   \n",
      "1                        0                       0                       0   \n",
      "2                        0                       0                       0   \n",
      "3                        0                       0                       0   \n",
      "4                        0                       0                       0   \n",
      "5                        0                       0                       0   \n",
      "6                        0                       0                       0   \n",
      "7                        0                       0                       0   \n",
      "8                        0                       0                       0   \n",
      "9                      703                       0                     782   \n",
      "\n",
      "   median_playtime_2weeks peak_ccu  \n",
      "0                       0        0  \n",
      "1                       0        0  \n",
      "2                       0        0  \n",
      "3                       0        0  \n",
      "4                       0        0  \n",
      "5                       0       68  \n",
      "6                       0        3  \n",
      "7                       0        2  \n",
      "8                       0        1  \n",
      "9                       0        0  \n",
      "\n",
      "[10 rows x 28 columns]\n",
      "   game_id                                          name  release_date  \\\n",
      "0        1                                                Aug 30, 2020   \n",
      "1        2                                                 Nov 1, 2016   \n",
      "2        3                                                Sep 25, 2019   \n",
      "3        4                                                Mar 11, 2020   \n",
      "4        5                                                Jul 12, 2019   \n",
      "5        6                                                Jan 23, 2020   \n",
      "6        7                                 ! Shakabula *  Oct 13, 2023   \n",
      "7        8  ! That Bastard Is Trying To Steal Our Gold !   Mar 3, 2016   \n",
      "8        9                               ! Wild Russia !  Apr 28, 2020   \n",
      "9       10                                      !AnyWay!   Jun 6, 2018   \n",
      "\n",
      "   required_age  price  dlc_count  support_email  windows    mac  linux  ...  \\\n",
      "0             0   0.00          0          False     True  False  False  ...   \n",
      "1             0   0.00          0          False     True  False  False  ...   \n",
      "2             0   6.99          0          False     True  False  False  ...   \n",
      "3             0   0.00          0          False     True  False  False  ...   \n",
      "4             0   0.00          0          False     True  False  False  ...   \n",
      "5             0   0.00          0          False     True   True   True  ...   \n",
      "6             0  14.99          0           True     True  False  False  ...   \n",
      "7             0   2.99          0           True     True  False   True  ...   \n",
      "8             0  19.99          0           True     True  False  False  ...   \n",
      "9             0   1.79         37           True     True  False  False  ...   \n",
      "\n",
      "   user_score  score_rank  positive negative estimated_owners  \\\n",
      "0         0.0                     0        0            0 - 0   \n",
      "1         0.0                     0        0            0 - 0   \n",
      "2         0.0                     0        0            0 - 0   \n",
      "3         0.0                     0        0        0 - 20000   \n",
      "4         0.0                     0        0            0 - 0   \n",
      "5         0.0                     0        0            0 - 0   \n",
      "6         0.0                     1        1        0 - 20000   \n",
      "7         0.0                    26       62    20000 - 50000   \n",
      "8         0.0                    41       22        0 - 20000   \n",
      "9         0.0                   246      113   50000 - 100000   \n",
      "\n",
      "  average_playtime_forever average_playtime_2weeks median_playtime_forever  \\\n",
      "0                        0                       0                       0   \n",
      "1                        0                       0                       0   \n",
      "2                        0                       0                       0   \n",
      "3                        0                       0                       0   \n",
      "4                        0                       0                       0   \n",
      "5                        0                       0                       0   \n",
      "6                        0                       0                       0   \n",
      "7                      354                       0                     388   \n",
      "8                        0                       0                       0   \n",
      "9                      353                       0                     359   \n",
      "\n",
      "  median_playtime_2weeks  peak_ccu  \n",
      "0                      0         0  \n",
      "1                      0         0  \n",
      "2                      0         0  \n",
      "3                      0         0  \n",
      "4                      0         0  \n",
      "5                      0         0  \n",
      "6                      0         0  \n",
      "7                      0         1  \n",
      "8                      0         1  \n",
      "9                      0        13  \n",
      "\n",
      "[10 rows x 29 columns]\n"
     ]
    }
   ],
   "source": [
    "import duckdb\n",
    "\n",
    "conn = duckdb.connect('C:/Users/Vyshnav/Documents/GitHub/SteamDataPipeline/duckdb/steam_games.duckdb')\n",
    "   \n",
    "   # View stg_games\n",
    "print(conn.execute(\"SELECT * FROM stg_games LIMIT 10\").fetchdf())\n",
    "   \n",
    "   # View dim_games\n",
    "print(conn.execute(\"SELECT * FROM dim_games LIMIT 10\").fetchdf())\n"
   ]
  },
  {
   "cell_type": "code",
   "execution_count": 27,
   "metadata": {},
   "outputs": [
    {
     "name": "stdout",
     "output_type": "stream",
     "text": [
      "Developer and Publisher Insights:\n",
      "         type                        name  game_count\n",
      "0   developer                       Inc.\"         518\n",
      "1   developer                        LLC\"         485\n",
      "2   developer                       Ltd.\"         375\n",
      "3   developer                       LTD.\"         192\n",
      "4   developer           \"Choice of Games\"         157\n",
      "5   developer             \"Atomic Fabrik\"         153\n",
      "6   developer  \"Laush Dmitriy Sergeevich\"         148\n",
      "7   developer                   \"Creobit\"         146\n",
      "8   developer           \"EroticGamesClub\"         141\n",
      "9   developer                        Ltd\"         124\n",
      "10  publisher                          \"\"        3803\n",
      "11  publisher                       Inc.\"         632\n",
      "12  publisher                        LLC\"         539\n",
      "13  publisher            \"Big Fish Games\"         501\n",
      "14  publisher                       Ltd.\"         417\n",
      "15  publisher                    \"8floor\"         268\n",
      "16  publisher                      \"SEGA\"         211\n",
      "17  publisher               \"Square Enix\"         195\n",
      "18  publisher             \"Atomic Fabrik\"         185\n",
      "19  publisher                       LTD.\"         177\n",
      "\n",
      "\n"
     ]
    }
   ],
   "source": [
    "# dev_pub_insights\n",
    "print(\"Developer and Publisher Insights:\")\n",
    "print(conn.execute(\"SELECT * FROM dev_pub_insights\").fetchdf())\n",
    "print(\"\\n\")"
   ]
  },
  {
   "cell_type": "code",
   "execution_count": 28,
   "metadata": {},
   "outputs": [
    {
     "name": "stdout",
     "output_type": "stream",
     "text": [
      "Filtered Games:\n",
      "                                   name  release_date  required_age  price  \\\n",
      "0                Alien Breed 3: Descent  Nov 17, 2010             0   9.99   \n",
      "1                            DogFighter  Jun 14, 2010             0   0.99   \n",
      "2                     Vanguard Princess   Mar 3, 2014             0   2.49   \n",
      "3                        IRON REBELLION   Nov 9, 2021             0  11.99   \n",
      "4                   Deadfall Adventures  Nov 15, 2013             0  19.99   \n",
      "5                            Far Cry® 5  Mar 26, 2018            17  59.99   \n",
      "6            A Journey Through Valhalla  Sep 12, 2021             0   5.99   \n",
      "7                             COUNTDOWN  Jan 10, 2021             0   0.99   \n",
      "8  Project MIKHAIL: A Muv-Luv War Story   Nov 1, 2021             0  19.99   \n",
      "9                    Ballistic Machines  Jun 11, 2021             0   1.99   \n",
      "\n",
      "   dlc_count  support_email  windows    mac  linux  metacritic_score  ...  \\\n",
      "0          0          False     True  False  False                64  ...   \n",
      "1          0           True     True  False  False                 0  ...   \n",
      "2          7           True     True   True   True                 0  ...   \n",
      "3          0           True     True  False  False                 0  ...   \n",
      "4          0           True     True  False   True                53  ...   \n",
      "5          5          False     True  False  False                 0  ...   \n",
      "6          0          False     True  False  False                 0  ...   \n",
      "7          0           True     True  False  False                 0  ...   \n",
      "8          0           True     True  False  False                 0  ...   \n",
      "9          0           True     True  False  False                 0  ...   \n",
      "\n",
      "   user_score  score_rank positive negative   estimated_owners  \\\n",
      "0         0.0                  349      134    200000 - 500000   \n",
      "1         0.0                  258      166    100000 - 200000   \n",
      "2         0.0                 2014      841    200000 - 500000   \n",
      "3         0.0                  168       39     50000 - 100000   \n",
      "4         0.0                 1716      628    100000 - 200000   \n",
      "5         0.0               100620    25286  2000000 - 5000000   \n",
      "6         0.0                    3        3          0 - 20000   \n",
      "7         0.0                    6        1          0 - 20000   \n",
      "8         0.0                  328      253      20000 - 50000   \n",
      "9         0.0                    0        0          0 - 20000   \n",
      "\n",
      "  average_playtime_forever average_playtime_2weeks median_playtime_forever  \\\n",
      "0                       44                       0                      24   \n",
      "1                      739                       0                    1108   \n",
      "2                      425                       0                     244   \n",
      "3                       48                       0                      48   \n",
      "4                      324                       0                     431   \n",
      "5                     1756                     223                    1258   \n",
      "6                        0                       0                       0   \n",
      "7                        0                       0                       0   \n",
      "8                      670                       0                     670   \n",
      "9                        0                       0                       0   \n",
      "\n",
      "   median_playtime_2weeks peak_ccu  \n",
      "0                       0        3  \n",
      "1                       0        1  \n",
      "2                       0        1  \n",
      "3                       0        2  \n",
      "4                       0        4  \n",
      "5                     311     2164  \n",
      "6                       0        0  \n",
      "7                       0        0  \n",
      "8                       0       16  \n",
      "9                       0        0  \n",
      "\n",
      "[10 rows x 28 columns]\n",
      "\n",
      "\n"
     ]
    }
   ],
   "source": [
    "# game_filters\n",
    "print(\"Filtered Games:\")\n",
    "print(conn.execute(\"SELECT * FROM game_filters LIMIT 10\").fetchdf())\n",
    "print(\"\\n\")"
   ]
  },
  {
   "cell_type": "code",
   "execution_count": 29,
   "metadata": {},
   "outputs": [
    {
     "name": "stdout",
     "output_type": "stream",
     "text": [
      "Language Analysis:\n",
      "                language  game_count\n",
      "0              \"English\"       83644\n",
      "1   \"Simplified Chinese\"       21403\n",
      "2               \"German\"       20166\n",
      "3               \"French\"       19609\n",
      "4              \"Russian\"       18796\n",
      "5      \"Spanish - Spain\"       18132\n",
      "6             \"Japanese\"       17226\n",
      "7              \"Italian\"       13653\n",
      "8               \"Korean\"       11083\n",
      "9  \"Traditional Chinese\"       10667\n",
      "\n",
      "\n"
     ]
    }
   ],
   "source": [
    "# lang_analysis\n",
    "print(\"Language Analysis:\")\n",
    "print(conn.execute(\"SELECT * FROM lang_analysis LIMIT 10\").fetchdf())\n",
    "print(\"\\n\")\n",
    "\n"
   ]
  },
  {
   "cell_type": "code",
   "execution_count": 30,
   "metadata": {},
   "outputs": [
    {
     "name": "stdout",
     "output_type": "stream",
     "text": [
      "Platform Distribution:\n",
      "   windows_count  mac_count  linux_count\n",
      "0        91072.0    17182.0      11870.0\n",
      "\n",
      "\n"
     ]
    }
   ],
   "source": [
    "# platform_dist\n",
    "print(\"Platform Distribution:\")\n",
    "print(conn.execute(\"SELECT * FROM platform_dist\").fetchdf())\n",
    "print(\"\\n\")\n",
    "\n"
   ]
  },
  {
   "cell_type": "code",
   "execution_count": 31,
   "metadata": {},
   "outputs": [
    {
     "name": "stdout",
     "output_type": "stream",
     "text": [
      "Release Trends:\n",
      "  release_month  game_count\n",
      "0    1997-06-01           1\n",
      "1    1997-11-01           1\n",
      "2    1998-11-01           1\n",
      "3    1999-04-01           1\n",
      "4    1999-09-01           1\n",
      "5    1999-11-01           1\n",
      "6    2000-11-01           2\n",
      "7    2001-03-01           1\n",
      "8    2001-06-01           2\n",
      "9    2001-12-01           1\n",
      "\n",
      "\n"
     ]
    }
   ],
   "source": [
    "# release_trends\n",
    "print(\"Release Trends:\")\n",
    "print(conn.execute(\"SELECT * FROM release_trends LIMIT 10\").fetchdf())\n",
    "print(\"\\n\")\n",
    "\n"
   ]
  },
  {
   "cell_type": "code",
   "execution_count": 32,
   "metadata": {},
   "outputs": [
    {
     "name": "stdout",
     "output_type": "stream",
     "text": [
      "User Score Ratio:\n",
      "                                 name  positive  negative  score_ratio\n",
      "0                    Galactic Bowling         6        11     0.352941\n",
      "1                        Train Bandit        53         5     0.913793\n",
      "2                        Jolt Project         0         0          NaN\n",
      "3                            Henosis™         3         0     1.000000\n",
      "4               Two Weeks in Painland        50         8     0.862069\n",
      "5                      Wartune Reborn        87        49     0.639706\n",
      "6                           TD Worlds        21         7     0.750000\n",
      "7  Legend of Rome - The Wrath of Mars         0         0          NaN\n",
      "8               MazM: Jekyll and Hyde        76         6     0.926829\n",
      "9           Deadlings: Rotten Edition       225        45     0.833333\n",
      "\n",
      "\n"
     ]
    }
   ],
   "source": [
    "# user_score_ratio\n",
    "print(\"User Score Ratio:\")\n",
    "print(conn.execute(\"SELECT * FROM user_score_ratio LIMIT 10\").fetchdf())\n",
    "print(\"\\n\")\n"
   ]
  },
  {
   "cell_type": "code",
   "execution_count": 33,
   "metadata": {},
   "outputs": [
    {
     "name": "stdout",
     "output_type": "stream",
     "text": [
      "Dimensional Games Model:\n",
      "   game_id                                          name  release_date  \\\n",
      "0        1                                                Aug 30, 2020   \n",
      "1        2                                                 Nov 1, 2016   \n",
      "2        3                                                Sep 25, 2019   \n",
      "3        4                                                Mar 11, 2020   \n",
      "4        5                                                Jul 12, 2019   \n",
      "5        6                                                Jan 23, 2020   \n",
      "6        7                                 ! Shakabula *  Oct 13, 2023   \n",
      "7        8  ! That Bastard Is Trying To Steal Our Gold !   Mar 3, 2016   \n",
      "8        9                               ! Wild Russia !  Apr 28, 2020   \n",
      "9       10                                      !AnyWay!   Jun 6, 2018   \n",
      "\n",
      "   required_age  price  dlc_count  support_email  windows    mac  linux  ...  \\\n",
      "0             0   0.00          0          False     True  False  False  ...   \n",
      "1             0   0.00          0          False     True  False  False  ...   \n",
      "2             0   6.99          0          False     True  False  False  ...   \n",
      "3             0   0.00          0          False     True  False  False  ...   \n",
      "4             0   0.00          0          False     True  False  False  ...   \n",
      "5             0   0.00          0          False     True   True   True  ...   \n",
      "6             0  14.99          0           True     True  False  False  ...   \n",
      "7             0   2.99          0           True     True  False   True  ...   \n",
      "8             0  19.99          0           True     True  False  False  ...   \n",
      "9             0   1.79         37           True     True  False  False  ...   \n",
      "\n",
      "   user_score  score_rank  positive negative estimated_owners  \\\n",
      "0         0.0                     0        0            0 - 0   \n",
      "1         0.0                     0        0            0 - 0   \n",
      "2         0.0                     0        0            0 - 0   \n",
      "3         0.0                     0        0        0 - 20000   \n",
      "4         0.0                     0        0            0 - 0   \n",
      "5         0.0                     0        0            0 - 0   \n",
      "6         0.0                     1        1        0 - 20000   \n",
      "7         0.0                    26       62    20000 - 50000   \n",
      "8         0.0                    41       22        0 - 20000   \n",
      "9         0.0                   246      113   50000 - 100000   \n",
      "\n",
      "  average_playtime_forever average_playtime_2weeks median_playtime_forever  \\\n",
      "0                        0                       0                       0   \n",
      "1                        0                       0                       0   \n",
      "2                        0                       0                       0   \n",
      "3                        0                       0                       0   \n",
      "4                        0                       0                       0   \n",
      "5                        0                       0                       0   \n",
      "6                        0                       0                       0   \n",
      "7                      354                       0                     388   \n",
      "8                        0                       0                       0   \n",
      "9                      353                       0                     359   \n",
      "\n",
      "  median_playtime_2weeks  peak_ccu  \n",
      "0                      0         0  \n",
      "1                      0         0  \n",
      "2                      0         0  \n",
      "3                      0         0  \n",
      "4                      0         0  \n",
      "5                      0         0  \n",
      "6                      0         0  \n",
      "7                      0         1  \n",
      "8                      0         1  \n",
      "9                      0        13  \n",
      "\n",
      "[10 rows x 29 columns]\n",
      "\n",
      "\n"
     ]
    }
   ],
   "source": [
    "\n",
    "# dim_games (if you want to see the final dimensional model)\n",
    "print(\"Dimensional Games Model:\")\n",
    "print(conn.execute(\"SELECT * FROM dim_games LIMIT 10\").fetchdf())\n",
    "print(\"\\n\")"
   ]
  },
  {
   "cell_type": "code",
   "execution_count": 34,
   "metadata": {},
   "outputs": [
    {
     "name": "stdout",
     "output_type": "stream",
     "text": [
      "Support Email Availability:\n",
      "  has_support_email  game_count  percentage\n",
      "0               Yes       71519        78.5\n",
      "1                No       19584        21.5\n",
      "\n",
      "\n"
     ]
    }
   ],
   "source": [
    "print(\"Support Email Availability:\")\n",
    "print(conn.execute(\"SELECT * FROM support_email_availability\").fetchdf())\n",
    "print(\"\\n\")"
   ]
  },
  {
   "cell_type": "code",
   "execution_count": 35,
   "metadata": {},
   "outputs": [
    {
     "name": "stdout",
     "output_type": "stream",
     "text": [
      "Top 100 Games by Average Playtime:\n",
      "   rank                             name  avg_playtime_hours\n",
      "0     1                          Boom 3D              145727\n",
      "1     2  Energy Engine PC Live Wallpaper              104238\n",
      "2     3            副作用之瞳-Tlicolity Eyes-               90351\n",
      "3     4                  Defense Clicker               76068\n",
      "4     5                           Relive               68357\n",
      "5     6                  Sisyphus Reborn               68159\n",
      "6     7                        YoloMouse               64973\n",
      "7     8               WARRIORS ALL-STARS               51388\n",
      "8     9  拯救大魔王2 Rescue the Great Demon 2               49555\n",
      "9    10     Combat Mission Shock Force 2               47336\n",
      "\n",
      "\n"
     ]
    }
   ],
   "source": [
    "print(\"Top 100 Games by Average Playtime:\")\n",
    "print(conn.execute(\"SELECT * FROM game_playtime_ranking LIMIT 10\").fetchdf())  # Showing top 10 for brevity\n",
    "print(\"\\n\")"
   ]
  },
  {
   "cell_type": "code",
   "execution_count": 36,
   "metadata": {},
   "outputs": [],
   "source": [
    "con.close()\n",
    "conn.close()"
   ]
  }
 ],
 "metadata": {
  "kernelspec": {
   "display_name": "base",
   "language": "python",
   "name": "python3"
  },
  "language_info": {
   "codemirror_mode": {
    "name": "ipython",
    "version": 3
   },
   "file_extension": ".py",
   "mimetype": "text/x-python",
   "name": "python",
   "nbconvert_exporter": "python",
   "pygments_lexer": "ipython3",
   "version": "3.12.4"
  }
 },
 "nbformat": 4,
 "nbformat_minor": 2
}
